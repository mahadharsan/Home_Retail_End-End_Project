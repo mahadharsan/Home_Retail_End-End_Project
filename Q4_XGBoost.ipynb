{
  "nbformat": 4,
  "nbformat_minor": 0,
  "metadata": {
    "colab": {
      "provenance": []
    },
    "kernelspec": {
      "name": "python3",
      "display_name": "Python 3"
    },
    "language_info": {
      "name": "python"
    }
  },
  "cells": [
    {
      "cell_type": "code",
      "execution_count": 1,
      "metadata": {
        "id": "o5g-ob261Nm0"
      },
      "outputs": [],
      "source": [
        "import pandas as pd\n",
        "import numpy as np\n",
        "import matplotlib.pyplot as plt\n",
        "import seaborn as sns\n",
        "from datetime import datetime, timedelta\n",
        "\n",
        "from sklearn.ensemble import RandomForestRegressor\n",
        "from sklearn.model_selection import train_test_split\n",
        "from sklearn.metrics import mean_squared_error, mean_absolute_error\n",
        "import xgboost as xgb"
      ]
    },
    {
      "cell_type": "code",
      "source": [
        "df = pd.read_csv('Sales_Data_Final.csv')"
      ],
      "metadata": {
        "id": "zaBeo3hu1ZIV"
      },
      "execution_count": 2,
      "outputs": []
    },
    {
      "cell_type": "code",
      "source": [
        "df.head()"
      ],
      "metadata": {
        "colab": {
          "base_uri": "https://localhost:8080/",
          "height": 206
        },
        "id": "1TEXvWLH2LHm",
        "outputId": "4fdf2a30-3b29-49a9-db57-c6ca289fed62"
      },
      "execution_count": 3,
      "outputs": [
        {
          "output_type": "execute_result",
          "data": {
            "text/plain": [
              "  customer_id purchase_date product_id  amount_spent  price_per_item  \\\n",
              "0   CUST_0055    2023-08-14   PROD_034           196              98   \n",
              "1   CUST_0031    2023-11-20   PROD_041            30               6   \n",
              "2   CUST_0023    2023-10-29   PROD_024           147              49   \n",
              "3   CUST_0053    2023-12-03   PROD_041            18               6   \n",
              "4   CUST_0048    2023-08-14   PROD_033            93              93   \n",
              "\n",
              "   number_of_items  \n",
              "0                2  \n",
              "1                5  \n",
              "2                3  \n",
              "3                3  \n",
              "4                1  "
            ],
            "text/html": [
              "\n",
              "  <div id=\"df-72fed535-84f9-4934-83e5-f1c9fcbcffc2\" class=\"colab-df-container\">\n",
              "    <div>\n",
              "<style scoped>\n",
              "    .dataframe tbody tr th:only-of-type {\n",
              "        vertical-align: middle;\n",
              "    }\n",
              "\n",
              "    .dataframe tbody tr th {\n",
              "        vertical-align: top;\n",
              "    }\n",
              "\n",
              "    .dataframe thead th {\n",
              "        text-align: right;\n",
              "    }\n",
              "</style>\n",
              "<table border=\"1\" class=\"dataframe\">\n",
              "  <thead>\n",
              "    <tr style=\"text-align: right;\">\n",
              "      <th></th>\n",
              "      <th>customer_id</th>\n",
              "      <th>purchase_date</th>\n",
              "      <th>product_id</th>\n",
              "      <th>amount_spent</th>\n",
              "      <th>price_per_item</th>\n",
              "      <th>number_of_items</th>\n",
              "    </tr>\n",
              "  </thead>\n",
              "  <tbody>\n",
              "    <tr>\n",
              "      <th>0</th>\n",
              "      <td>CUST_0055</td>\n",
              "      <td>2023-08-14</td>\n",
              "      <td>PROD_034</td>\n",
              "      <td>196</td>\n",
              "      <td>98</td>\n",
              "      <td>2</td>\n",
              "    </tr>\n",
              "    <tr>\n",
              "      <th>1</th>\n",
              "      <td>CUST_0031</td>\n",
              "      <td>2023-11-20</td>\n",
              "      <td>PROD_041</td>\n",
              "      <td>30</td>\n",
              "      <td>6</td>\n",
              "      <td>5</td>\n",
              "    </tr>\n",
              "    <tr>\n",
              "      <th>2</th>\n",
              "      <td>CUST_0023</td>\n",
              "      <td>2023-10-29</td>\n",
              "      <td>PROD_024</td>\n",
              "      <td>147</td>\n",
              "      <td>49</td>\n",
              "      <td>3</td>\n",
              "    </tr>\n",
              "    <tr>\n",
              "      <th>3</th>\n",
              "      <td>CUST_0053</td>\n",
              "      <td>2023-12-03</td>\n",
              "      <td>PROD_041</td>\n",
              "      <td>18</td>\n",
              "      <td>6</td>\n",
              "      <td>3</td>\n",
              "    </tr>\n",
              "    <tr>\n",
              "      <th>4</th>\n",
              "      <td>CUST_0048</td>\n",
              "      <td>2023-08-14</td>\n",
              "      <td>PROD_033</td>\n",
              "      <td>93</td>\n",
              "      <td>93</td>\n",
              "      <td>1</td>\n",
              "    </tr>\n",
              "  </tbody>\n",
              "</table>\n",
              "</div>\n",
              "    <div class=\"colab-df-buttons\">\n",
              "\n",
              "  <div class=\"colab-df-container\">\n",
              "    <button class=\"colab-df-convert\" onclick=\"convertToInteractive('df-72fed535-84f9-4934-83e5-f1c9fcbcffc2')\"\n",
              "            title=\"Convert this dataframe to an interactive table.\"\n",
              "            style=\"display:none;\">\n",
              "\n",
              "  <svg xmlns=\"http://www.w3.org/2000/svg\" height=\"24px\" viewBox=\"0 -960 960 960\">\n",
              "    <path d=\"M120-120v-720h720v720H120Zm60-500h600v-160H180v160Zm220 220h160v-160H400v160Zm0 220h160v-160H400v160ZM180-400h160v-160H180v160Zm440 0h160v-160H620v160ZM180-180h160v-160H180v160Zm440 0h160v-160H620v160Z\"/>\n",
              "  </svg>\n",
              "    </button>\n",
              "\n",
              "  <style>\n",
              "    .colab-df-container {\n",
              "      display:flex;\n",
              "      gap: 12px;\n",
              "    }\n",
              "\n",
              "    .colab-df-convert {\n",
              "      background-color: #E8F0FE;\n",
              "      border: none;\n",
              "      border-radius: 50%;\n",
              "      cursor: pointer;\n",
              "      display: none;\n",
              "      fill: #1967D2;\n",
              "      height: 32px;\n",
              "      padding: 0 0 0 0;\n",
              "      width: 32px;\n",
              "    }\n",
              "\n",
              "    .colab-df-convert:hover {\n",
              "      background-color: #E2EBFA;\n",
              "      box-shadow: 0px 1px 2px rgba(60, 64, 67, 0.3), 0px 1px 3px 1px rgba(60, 64, 67, 0.15);\n",
              "      fill: #174EA6;\n",
              "    }\n",
              "\n",
              "    .colab-df-buttons div {\n",
              "      margin-bottom: 4px;\n",
              "    }\n",
              "\n",
              "    [theme=dark] .colab-df-convert {\n",
              "      background-color: #3B4455;\n",
              "      fill: #D2E3FC;\n",
              "    }\n",
              "\n",
              "    [theme=dark] .colab-df-convert:hover {\n",
              "      background-color: #434B5C;\n",
              "      box-shadow: 0px 1px 3px 1px rgba(0, 0, 0, 0.15);\n",
              "      filter: drop-shadow(0px 1px 2px rgba(0, 0, 0, 0.3));\n",
              "      fill: #FFFFFF;\n",
              "    }\n",
              "  </style>\n",
              "\n",
              "    <script>\n",
              "      const buttonEl =\n",
              "        document.querySelector('#df-72fed535-84f9-4934-83e5-f1c9fcbcffc2 button.colab-df-convert');\n",
              "      buttonEl.style.display =\n",
              "        google.colab.kernel.accessAllowed ? 'block' : 'none';\n",
              "\n",
              "      async function convertToInteractive(key) {\n",
              "        const element = document.querySelector('#df-72fed535-84f9-4934-83e5-f1c9fcbcffc2');\n",
              "        const dataTable =\n",
              "          await google.colab.kernel.invokeFunction('convertToInteractive',\n",
              "                                                    [key], {});\n",
              "        if (!dataTable) return;\n",
              "\n",
              "        const docLinkHtml = 'Like what you see? Visit the ' +\n",
              "          '<a target=\"_blank\" href=https://colab.research.google.com/notebooks/data_table.ipynb>data table notebook</a>'\n",
              "          + ' to learn more about interactive tables.';\n",
              "        element.innerHTML = '';\n",
              "        dataTable['output_type'] = 'display_data';\n",
              "        await google.colab.output.renderOutput(dataTable, element);\n",
              "        const docLink = document.createElement('div');\n",
              "        docLink.innerHTML = docLinkHtml;\n",
              "        element.appendChild(docLink);\n",
              "      }\n",
              "    </script>\n",
              "  </div>\n",
              "\n",
              "\n",
              "<div id=\"df-62b310e8-9231-4841-a219-ff9cbfcd1f35\">\n",
              "  <button class=\"colab-df-quickchart\" onclick=\"quickchart('df-62b310e8-9231-4841-a219-ff9cbfcd1f35')\"\n",
              "            title=\"Suggest charts\"\n",
              "            style=\"display:none;\">\n",
              "\n",
              "<svg xmlns=\"http://www.w3.org/2000/svg\" height=\"24px\"viewBox=\"0 0 24 24\"\n",
              "     width=\"24px\">\n",
              "    <g>\n",
              "        <path d=\"M19 3H5c-1.1 0-2 .9-2 2v14c0 1.1.9 2 2 2h14c1.1 0 2-.9 2-2V5c0-1.1-.9-2-2-2zM9 17H7v-7h2v7zm4 0h-2V7h2v10zm4 0h-2v-4h2v4z\"/>\n",
              "    </g>\n",
              "</svg>\n",
              "  </button>\n",
              "\n",
              "<style>\n",
              "  .colab-df-quickchart {\n",
              "      --bg-color: #E8F0FE;\n",
              "      --fill-color: #1967D2;\n",
              "      --hover-bg-color: #E2EBFA;\n",
              "      --hover-fill-color: #174EA6;\n",
              "      --disabled-fill-color: #AAA;\n",
              "      --disabled-bg-color: #DDD;\n",
              "  }\n",
              "\n",
              "  [theme=dark] .colab-df-quickchart {\n",
              "      --bg-color: #3B4455;\n",
              "      --fill-color: #D2E3FC;\n",
              "      --hover-bg-color: #434B5C;\n",
              "      --hover-fill-color: #FFFFFF;\n",
              "      --disabled-bg-color: #3B4455;\n",
              "      --disabled-fill-color: #666;\n",
              "  }\n",
              "\n",
              "  .colab-df-quickchart {\n",
              "    background-color: var(--bg-color);\n",
              "    border: none;\n",
              "    border-radius: 50%;\n",
              "    cursor: pointer;\n",
              "    display: none;\n",
              "    fill: var(--fill-color);\n",
              "    height: 32px;\n",
              "    padding: 0;\n",
              "    width: 32px;\n",
              "  }\n",
              "\n",
              "  .colab-df-quickchart:hover {\n",
              "    background-color: var(--hover-bg-color);\n",
              "    box-shadow: 0 1px 2px rgba(60, 64, 67, 0.3), 0 1px 3px 1px rgba(60, 64, 67, 0.15);\n",
              "    fill: var(--button-hover-fill-color);\n",
              "  }\n",
              "\n",
              "  .colab-df-quickchart-complete:disabled,\n",
              "  .colab-df-quickchart-complete:disabled:hover {\n",
              "    background-color: var(--disabled-bg-color);\n",
              "    fill: var(--disabled-fill-color);\n",
              "    box-shadow: none;\n",
              "  }\n",
              "\n",
              "  .colab-df-spinner {\n",
              "    border: 2px solid var(--fill-color);\n",
              "    border-color: transparent;\n",
              "    border-bottom-color: var(--fill-color);\n",
              "    animation:\n",
              "      spin 1s steps(1) infinite;\n",
              "  }\n",
              "\n",
              "  @keyframes spin {\n",
              "    0% {\n",
              "      border-color: transparent;\n",
              "      border-bottom-color: var(--fill-color);\n",
              "      border-left-color: var(--fill-color);\n",
              "    }\n",
              "    20% {\n",
              "      border-color: transparent;\n",
              "      border-left-color: var(--fill-color);\n",
              "      border-top-color: var(--fill-color);\n",
              "    }\n",
              "    30% {\n",
              "      border-color: transparent;\n",
              "      border-left-color: var(--fill-color);\n",
              "      border-top-color: var(--fill-color);\n",
              "      border-right-color: var(--fill-color);\n",
              "    }\n",
              "    40% {\n",
              "      border-color: transparent;\n",
              "      border-right-color: var(--fill-color);\n",
              "      border-top-color: var(--fill-color);\n",
              "    }\n",
              "    60% {\n",
              "      border-color: transparent;\n",
              "      border-right-color: var(--fill-color);\n",
              "    }\n",
              "    80% {\n",
              "      border-color: transparent;\n",
              "      border-right-color: var(--fill-color);\n",
              "      border-bottom-color: var(--fill-color);\n",
              "    }\n",
              "    90% {\n",
              "      border-color: transparent;\n",
              "      border-bottom-color: var(--fill-color);\n",
              "    }\n",
              "  }\n",
              "</style>\n",
              "\n",
              "  <script>\n",
              "    async function quickchart(key) {\n",
              "      const quickchartButtonEl =\n",
              "        document.querySelector('#' + key + ' button');\n",
              "      quickchartButtonEl.disabled = true;  // To prevent multiple clicks.\n",
              "      quickchartButtonEl.classList.add('colab-df-spinner');\n",
              "      try {\n",
              "        const charts = await google.colab.kernel.invokeFunction(\n",
              "            'suggestCharts', [key], {});\n",
              "      } catch (error) {\n",
              "        console.error('Error during call to suggestCharts:', error);\n",
              "      }\n",
              "      quickchartButtonEl.classList.remove('colab-df-spinner');\n",
              "      quickchartButtonEl.classList.add('colab-df-quickchart-complete');\n",
              "    }\n",
              "    (() => {\n",
              "      let quickchartButtonEl =\n",
              "        document.querySelector('#df-62b310e8-9231-4841-a219-ff9cbfcd1f35 button');\n",
              "      quickchartButtonEl.style.display =\n",
              "        google.colab.kernel.accessAllowed ? 'block' : 'none';\n",
              "    })();\n",
              "  </script>\n",
              "</div>\n",
              "\n",
              "    </div>\n",
              "  </div>\n"
            ],
            "application/vnd.google.colaboratory.intrinsic+json": {
              "type": "dataframe",
              "variable_name": "df",
              "summary": "{\n  \"name\": \"df\",\n  \"rows\": 1000,\n  \"fields\": [\n    {\n      \"column\": \"customer_id\",\n      \"properties\": {\n        \"dtype\": \"category\",\n        \"num_unique_values\": 100,\n        \"samples\": [\n          \"CUST_0027\",\n          \"CUST_0060\",\n          \"CUST_0011\"\n        ],\n        \"semantic_type\": \"\",\n        \"description\": \"\"\n      }\n    },\n    {\n      \"column\": \"purchase_date\",\n      \"properties\": {\n        \"dtype\": \"object\",\n        \"num_unique_values\": 340,\n        \"samples\": [\n          \"2023-02-22\",\n          \"2023-02-23\",\n          \"2023-05-28\"\n        ],\n        \"semantic_type\": \"\",\n        \"description\": \"\"\n      }\n    },\n    {\n      \"column\": \"product_id\",\n      \"properties\": {\n        \"dtype\": \"category\",\n        \"num_unique_values\": 50,\n        \"samples\": [\n          \"PROD_013\",\n          \"PROD_015\",\n          \"PROD_028\"\n        ],\n        \"semantic_type\": \"\",\n        \"description\": \"\"\n      }\n    },\n    {\n      \"column\": \"amount_spent\",\n      \"properties\": {\n        \"dtype\": \"number\",\n        \"std\": 113,\n        \"min\": 6,\n        \"max\": 490,\n        \"num_unique_values\": 154,\n        \"samples\": [\n          296,\n          368,\n          59\n        ],\n        \"semantic_type\": \"\",\n        \"description\": \"\"\n      }\n    },\n    {\n      \"column\": \"price_per_item\",\n      \"properties\": {\n        \"dtype\": \"number\",\n        \"std\": 27,\n        \"min\": 6,\n        \"max\": 98,\n        \"num_unique_values\": 40,\n        \"samples\": [\n          59,\n          16,\n          37\n        ],\n        \"semantic_type\": \"\",\n        \"description\": \"\"\n      }\n    },\n    {\n      \"column\": \"number_of_items\",\n      \"properties\": {\n        \"dtype\": \"number\",\n        \"std\": 1,\n        \"min\": 1,\n        \"max\": 5,\n        \"num_unique_values\": 5,\n        \"samples\": [\n          5,\n          4,\n          3\n        ],\n        \"semantic_type\": \"\",\n        \"description\": \"\"\n      }\n    }\n  ]\n}"
            }
          },
          "metadata": {},
          "execution_count": 3
        }
      ]
    },
    {
      "cell_type": "code",
      "source": [
        "df['purchase_date'] = pd.to_datetime(df['purchase_date'])\n",
        "\n",
        "df['day_of_week'] = df['purchase_date'].dt.dayofweek\n",
        "df['month'] = df['purchase_date'].dt.month\n",
        "df['week_of_year'] = df['purchase_date'].dt.isocalendar().week\n",
        "\n",
        "y = df['number_of_items']\n",
        "X = df.drop(columns=['number_of_items', 'amount_spent','customer_id'], axis=1)\n",
        "\n",
        "\n",
        "X = pd.get_dummies(X, columns=['product_id'])\n",
        "X = X.drop(columns=['purchase_date'], axis=1)\n",
        "\n",
        "\n",
        "X_train, X_test, y_train, y_test = train_test_split(X, y, test_size=0.2, random_state=100)\n",
        "\n",
        "model_xg = xgb.XGBRegressor(max_depth=10, n_estimators=300, learning_rate=0.05)\n",
        "model_xg.fit(X_train, y_train)\n",
        "\n",
        "y_pred = model_xg.predict(X_test)\n",
        "rmse = np.sqrt(mean_squared_error(y_test, y_pred))\n",
        "mae = mean_absolute_error(y_test, y_pred)\n",
        "print(f\"RMSE: {rmse}\")\n",
        "print(f\"MAE: {mae}\")\n"
      ],
      "metadata": {
        "colab": {
          "base_uri": "https://localhost:8080/"
        },
        "id": "O3qWsmja1c8n",
        "outputId": "b708181c-7306-41b6-f9af-958a68853828"
      },
      "execution_count": 6,
      "outputs": [
        {
          "output_type": "stream",
          "name": "stdout",
          "text": [
            "RMSE: 1.825162208862824\n",
            "MAE: 1.5504096314311027\n"
          ]
        }
      ]
    },
    {
      "cell_type": "code",
      "source": [
        "# Function to preprocess new input data\n",
        "def preprocess_input(purchase_date, product_id):\n",
        "    input_data = pd.DataFrame({\n",
        "        'purchase_date': [pd.to_datetime(purchase_date)],\n",
        "        'product_id': [product_id]\n",
        "    })\n",
        "    input_data['day_of_week'] = input_data['purchase_date'].dt.dayofweek\n",
        "    input_data['month'] = input_data['purchase_date'].dt.month\n",
        "    input_data['week_of_year'] = input_data['purchase_date'].dt.isocalendar().week\n",
        "    input_data = input_data.drop(columns=['purchase_date'])\n",
        "    input_data = pd.get_dummies(input_data, columns=['product_id'])\n",
        "    input_data = input_data.reindex(columns=X_train.columns, fill_value=0)\n",
        "    return input_data\n",
        "\n",
        "def round_items(num):\n",
        "    if num - int(num) <= 0.5:\n",
        "        return int(num)\n",
        "    else:\n",
        "        return int(num) + 1"
      ],
      "metadata": {
        "id": "PrHGOFCe227O"
      },
      "execution_count": 20,
      "outputs": []
    },
    {
      "cell_type": "code",
      "source": [
        "# Forecast all products for the month of July\n",
        "future_dates = pd.date_range(start='2023-07-01', end='2023-07-31')\n",
        "\n",
        "all_product_ids = X.columns[X.columns.str.startswith('product_id_')].str.replace('product_id_', '').tolist()\n",
        "\n",
        "predicted_sales = []\n",
        "for product_id in all_product_ids:\n",
        "    total_items = 0\n",
        "    for future_date in future_dates:\n",
        "        new_input_data = preprocess_input(future_date, product_id)\n",
        "        prediction = model_xg.predict(new_input_data)\n",
        "        total_items += round_items(prediction[0])\n",
        "    predicted_sales.append({'product_id': product_id, 'predicted_number_of_items': total_items})\n",
        "\n",
        "predicted_sales_df = pd.DataFrame(predicted_sales)\n",
        "print(predicted_sales_df)"
      ],
      "metadata": {
        "colab": {
          "base_uri": "https://localhost:8080/"
        },
        "id": "34aMtxpE3Q0U",
        "outputId": "811537cf-8512-4589-e651-966b974e0e92"
      },
      "execution_count": 9,
      "outputs": [
        {
          "output_type": "stream",
          "name": "stdout",
          "text": [
            "   product_id  predicted_number_of_items\n",
            "0    PROD_001                        115\n",
            "1    PROD_002                        120\n",
            "2    PROD_003                        130\n",
            "3    PROD_004                        118\n",
            "4    PROD_005                         97\n",
            "5    PROD_006                        118\n",
            "6    PROD_007                        113\n",
            "7    PROD_008                        116\n",
            "8    PROD_009                        123\n",
            "9    PROD_010                        128\n",
            "10   PROD_011                        110\n",
            "11   PROD_012                        132\n",
            "12   PROD_013                        119\n",
            "13   PROD_014                        153\n",
            "14   PROD_015                        129\n",
            "15   PROD_016                        107\n",
            "16   PROD_017                        101\n",
            "17   PROD_018                        101\n",
            "18   PROD_019                        113\n",
            "19   PROD_020                        116\n",
            "20   PROD_021                        122\n",
            "21   PROD_022                        137\n",
            "22   PROD_023                        126\n",
            "23   PROD_024                         98\n",
            "24   PROD_025                        103\n",
            "25   PROD_026                        125\n",
            "26   PROD_027                        121\n",
            "27   PROD_028                        118\n",
            "28   PROD_029                        119\n",
            "29   PROD_030                        114\n",
            "30   PROD_031                        132\n",
            "31   PROD_032                        120\n",
            "32   PROD_033                        122\n",
            "33   PROD_034                        122\n",
            "34   PROD_035                        124\n",
            "35   PROD_036                        116\n",
            "36   PROD_037                        104\n",
            "37   PROD_038                        118\n",
            "38   PROD_039                         96\n",
            "39   PROD_040                        122\n",
            "40   PROD_041                        122\n",
            "41   PROD_042                        115\n",
            "42   PROD_043                        123\n",
            "43   PROD_044                        122\n",
            "44   PROD_045                         90\n",
            "45   PROD_046                        112\n",
            "46   PROD_047                        128\n",
            "47   PROD_048                        106\n",
            "48   PROD_049                        124\n",
            "49   PROD_050                        122\n"
          ]
        }
      ]
    },
    {
      "cell_type": "code",
      "source": [
        "July_top10 = predicted_sales_df.sort_values(by='predicted_number_of_items', ascending=False).head(10)"
      ],
      "metadata": {
        "id": "dxAIuwd79DjH"
      },
      "execution_count": 12,
      "outputs": []
    },
    {
      "cell_type": "code",
      "source": [
        "July_top10.plot(x='product_id', y='predicted_number_of_items', kind='bar')\n",
        "plt.xlabel('Product ID')\n",
        "plt.ylabel('Predicted Number of Items')\n",
        "plt.title('Predicted Number of Items for July')\n",
        "plt.show()"
      ],
      "metadata": {
        "colab": {
          "base_uri": "https://localhost:8080/",
          "height": 531
        },
        "id": "aFU6fw8q9xQ1",
        "outputId": "6016417c-1e63-4deb-8ab4-40ea8e211aa1"
      },
      "execution_count": 17,
      "outputs": [
        {
          "output_type": "display_data",
          "data": {
            "text/plain": [
              "<Figure size 640x480 with 1 Axes>"
            ],
            "image/png": "[encoded data removed]"
          },
          "metadata": {}
        }
      ]
    },
    {
      "cell_type": "code",
      "source": [
        "\"\"\"Recommendation is to restock these top 10 selling products\"\"\""
      ],
      "metadata": {
        "colab": {
          "base_uri": "https://localhost:8080/",
          "height": 36
        },
        "id": "sgwUygzF-Oxk",
        "outputId": "903067a8-d219-4d8b-d09e-694d1d35063f"
      },
      "execution_count": 15,
      "outputs": [
        {
          "output_type": "execute_result",
          "data": {
            "text/plain": [
              "'Recommendation is to restock these top 10 selling products'"
            ],
            "application/vnd.google.colaboratory.intrinsic+json": {
              "type": "string"
            }
          },
          "metadata": {},
          "execution_count": 15
        }
      ]
    },
    {
      "cell_type": "code",
      "source": [
        "# Seasonal and trend analysis\n",
        "def plot_seasonality(df, column, title):\n",
        "    plt.figure(figsize=(10, 6))\n",
        "    df.groupby(column)['number_of_items'].mean().plot(kind='bar')\n",
        "    plt.title(title)\n",
        "    plt.ylabel('Average Number of Items Sold')\n",
        "    plt.xlabel(column)\n",
        "    plt.show()\n",
        "\n",
        "plot_seasonality(df, 'month', 'Seasonal Trend: Monthly Sales')\n",
        "plot_seasonality(df, 'day_of_week', 'Seasonal Trend: Daily Sales')"
      ],
      "metadata": {
        "colab": {
          "base_uri": "https://localhost:8080/",
          "height": 1000
        },
        "id": "ivR5FEiV-gO-",
        "outputId": "45a86cd2-6518-4be4-d743-1c320fa84c72"
      },
      "execution_count": 19,
      "outputs": [
        {
          "output_type": "display_data",
          "data": {
            "text/plain": [
              "<Figure size 1000x600 with 1 Axes>"
            ],
            "image/png": "[encoded data removed]"
          },
          "metadata": {}
        },
        {
          "output_type": "display_data",
          "data": {
            "text/plain": [
              "<Figure size 1000x600 with 1 Axes>"
            ],
            "image/png": "[encoded data removed]"
          },
          "metadata": {}
        }
      ]
    }
  ]
}