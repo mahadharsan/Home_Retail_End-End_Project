{
  "nbformat": 4,
  "nbformat_minor": 0,
  "metadata": {
    "colab": {
      "provenance": []
    },
    "kernelspec": {
      "name": "python3",
      "display_name": "Python 3"
    },
    "language_info": {
      "name": "python"
    }
  },
  "cells": [
    {
      "cell_type": "code",
      "execution_count": null,
      "metadata": {
        "id": "KMtgODqqAVfL"
      },
      "outputs": [],
      "source": [
        "import pandas as pd\n",
        "import numpy as np\n",
        "import glob\n",
        "from sqlalchemy import create_engine\n",
        "\n",
        "def extract(file_path):\n",
        "  csv_files = glob.glob(file_path)\n",
        "  data_frames = [pd.read_csv(file) for file in csv_files]\n",
        "  # Combine all data frames into one\n",
        "  df = pd.concat(data_frames, ignore_index=True)\n",
        "  return df\n",
        "\n",
        "def transform (df):\n",
        "  #handling missing values\n",
        "  df.dropna(inplace=True)\n",
        "  #handling duplicates\n",
        "  df.drop_duplicates(subset=['Store_id','date','product_id'],inplace=True)\n",
        "  #handling inconsistent formats\n",
        "  df['date'] = pd.to_datetime(df['date'])\n",
        "  df['store_id'] = df['store_id'].astype('str')\n",
        "  df['product_id'] = df['product_id'].astype('str')\n",
        "  df['quantity_sold'] = df['quantity_sold'].astype('int')\n",
        "  df['quantity_in_stock'] = df['quantity_in_stock'].astype('int')\n",
        "  df['revenue'] = df['revenue'].astype('float')\n",
        "  return df\n",
        "\n",
        "\n",
        "#Load cleaned data to sql database with appropriate indexing\n",
        "def load(df):\n",
        "  engine = create_engine('sqlite:///tophome.db')\n",
        "  df.to_sql('sales',con=engine,if_exists='append',index=False)\n",
        "  # Create indexes for efficient querying\n",
        "  with engine.connect() as conn:\n",
        "    conn.execute('CREATE INDEX idx_store_date ON sales (store_id, date)')\n",
        "    conn.execute('CREATE INDEX idx_product ON sales (product_id)')\n",
        "\n",
        "data = extract('*.csv')\n",
        "if not data.empty:\n",
        "    sales = transform(data)\n",
        "    load(sales)\n",
        "else:\n",
        "    print(\"No data to process.\")"
      ]
    }
  ]
}